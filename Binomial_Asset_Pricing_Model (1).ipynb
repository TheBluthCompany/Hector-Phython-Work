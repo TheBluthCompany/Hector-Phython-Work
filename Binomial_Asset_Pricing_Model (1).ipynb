{
  "nbformat": 4,
  "nbformat_minor": 0,
  "metadata": {
    "colab": {
      "provenance": []
    },
    "kernelspec": {
      "name": "python3",
      "display_name": "Python 3"
    },
    "language_info": {
      "name": "python"
    }
  },
  "cells": [
    {
      "cell_type": "code",
      "execution_count": 1,
      "metadata": {
        "id": "bJ6LtpvD59Ao"
      },
      "outputs": [],
      "source": [
        "import numpy as np"
      ]
    },
    {
      "cell_type": "code",
      "source": [
        "from functools import wraps\n",
        "from time import time\n",
        "\n",
        "def timing(f): \n",
        "  @wraps(f)\n",
        "  def wrap(*args, **kw): \n",
        "    ts = time()\n",
        "    result = f(*args, **kw)\n",
        "    te = time()\n",
        "    print('func:%r args: [%r, %r] took: %2.4f sec' % \\\n",
        "      (f.__name__, args, kw, te-ts))\n",
        "    return result\n",
        "  return wrap"
      ],
      "metadata": {
        "id": "WiIR0UY46NA1"
      },
      "execution_count": 2,
      "outputs": []
    },
    {
      "cell_type": "code",
      "source": [
        "# Initialize parameters\n",
        "S0 = 75.58    # stock price at t = 0\n",
        "K = 75        # strike price\n",
        "T = .83       # time to maturity in years\n",
        "r = .0348     # annual risk-free rate\n",
        "N = 100       # number of time steps\n",
        "u = 1.1       # S(u) up factor \n",
        "d = 1/ u      # S(d) down factor\n",
        "opttype = 'C' # Call option\n"
      ],
      "metadata": {
        "id": "BGwJVQJQ6M-m"
      },
      "execution_count": 3,
      "outputs": []
    },
    {
      "cell_type": "code",
      "source": [
        "def binomial_tree_slow(K, T, S0, r, N, u, d, opttype = \"C\"):\n",
        "    dt = T/N\n",
        "    q =(np.exp(r*dt) - d) / (u-d)\n",
        "    disc = np.exp(-r*dt)\n",
        "\n",
        "    S = np.zeros(N+1)\n",
        "    S[0] = S0 * d ** N\n",
        "    for j in range(1,N+1):\n",
        "        S[j] = S[j-1]*u/d\n",
        "\n",
        "    # initialize option values at maturity\n",
        "    C = np.zeros(N+1)\n",
        "    for j in range(0, N+1):\n",
        "        C[j] = max(0, S[j] - K)\n",
        "\n",
        "    for i in np.arange(N, 0, -1):\n",
        "        for j in range(0, i):\n",
        "            C[j] = disc * (q * C[j+1] + (1 - q) * C[j])\n",
        "\n",
        "    print('The expected price of the contract, at expiration, is: $%.4f' %C[0])\n",
        "\n",
        "binomial_tree_slow(K, T, S0, r, N, u, d, opttype = \"C\")"
      ],
      "metadata": {
        "colab": {
          "base_uri": "https://localhost:8080/"
        },
        "id": "eqYr80la6M8Y",
        "outputId": "ec026391-b81b-4eff-f80d-e1b9bf46b439"
      },
      "execution_count": 13,
      "outputs": [
        {
          "output_type": "stream",
          "name": "stdout",
          "text": [
            "The expected price of the contract, at expiration, is: $28.5170\n"
          ]
        }
      ]
    }
  ]
}