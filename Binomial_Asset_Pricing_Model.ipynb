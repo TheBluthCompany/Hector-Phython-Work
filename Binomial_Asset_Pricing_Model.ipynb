{
  "nbformat": 4,
  "nbformat_minor": 0,
  "metadata": {
    "colab": {
      "provenance": []
    },
    "kernelspec": {
      "name": "python3",
      "display_name": "Python 3"
    },
    "language_info": {
      "name": "python"
    }
  },
  "cells": [
    {
      "cell_type": "code",
      "execution_count": 1,
      "metadata": {
        "id": "bJ6LtpvD59Ao"
      },
      "outputs": [],
      "source": [
        "import numpy as np"
      ]
    },
    {
      "cell_type": "code",
      "source": [
        "from functools import wraps\n",
        "from time import time\n",
        "\n",
        "def timing(f): \n",
        "  @wraps(f)\n",
        "  def wrap(*args, **kw): \n",
        "    ts = time()\n",
        "    result = f(*args, **kw)\n",
        "    te = time()\n",
        "    print('func:%r args: [%r, %r] took: %2.4f sec' % \\\n",
        "      (f.__name__, args, kw, te-ts))\n",
        "    return result\n",
        "  return wrap"
      ],
      "metadata": {
        "id": "WiIR0UY46NA1"
      },
      "execution_count": 2,
      "outputs": []
    },
    {
      "cell_type": "code",
      "source": [
        "# Initialize parameters\n",
        "S0 = 75.58    # stock price at t = 0\n",
        "K = 75        # strike price\n",
        "T = .83       # time to maturity in years\n",
        "r = .0348     # annual risk-free rate\n",
        "N = 100       # number of time steps\n",
        "u = 1.1       # S(u) up factor \n",
        "d = 1/ u      # S(d) down factor\n",
        "opttype = 'C' # Call option\n"
      ],
      "metadata": {
        "id": "BGwJVQJQ6M-m"
      },
      "execution_count": 3,
      "outputs": []
    },
    {
      "cell_type": "code",
      "source": [
        "import numpy as np\n",
        "def binomial_tree_slow(K, T, S0, r, N, u, d, opttype = \"C\"):\n",
        "    dt = T/N\n",
        "    q =(np.exp(r*dt) - d) / (u-d)\n",
        "    disc = np.exp(-r*dt)\n",
        "\n",
        "    S = np.zeros(N+1)\n",
        "    S[0] = S0 * d ** N\n",
        "    for j in range(1,N+1):\n",
        "        S[j] = S[j-1]*u/d\n",
        "\n",
        "    # initialize option values at maturity\n",
        "    C = np.zeros(N+1)\n",
        "    for j in range(0, N+1):\n",
        "        C[j] = max(0, S[j] - K)\n",
        "\n",
        "    for i in np.arange(N, 0, -1):\n",
        "        for j in range(0, i):\n",
        "            C[j] = disc * (q * C[j+1] + (1 - q) * C[j])\n",
        "\n",
        "    return C[0]\n",
        "\n",
        "binomial_tree_slow(K, T, S0, r, N, u, d, opttype = \"C\")"
      ],
      "metadata": {
        "colab": {
          "base_uri": "https://localhost:8080/"
        },
        "id": "eqYr80la6M8Y",
        "outputId": "42ad67a0-0a3c-4f32-bb96-6761c7820f35"
      },
      "execution_count": 4,
      "outputs": [
        {
          "output_type": "execute_result",
          "data": {
            "text/plain": [
              "28.516981463670803"
            ]
          },
          "metadata": {},
          "execution_count": 4
        }
      ]
    },
    {
      "cell_type": "code",
      "source": [],
      "metadata": {
        "id": "0T5kbab06M57"
      },
      "execution_count": null,
      "outputs": []
    },
    {
      "cell_type": "code",
      "source": [],
      "metadata": {
        "id": "O0gi5p-S6M3T"
      },
      "execution_count": null,
      "outputs": []
    },
    {
      "cell_type": "code",
      "source": [],
      "metadata": {
        "id": "lf--8YXP6M0n"
      },
      "execution_count": null,
      "outputs": []
    },
    {
      "cell_type": "code",
      "source": [],
      "metadata": {
        "id": "oIqcBhTY6Mx9"
      },
      "execution_count": null,
      "outputs": []
    },
    {
      "cell_type": "code",
      "source": [],
      "metadata": {
        "id": "MKeM5dJ66Muf"
      },
      "execution_count": null,
      "outputs": []
    },
    {
      "cell_type": "code",
      "source": [],
      "metadata": {
        "id": "jmenin6J6Mry"
      },
      "execution_count": null,
      "outputs": []
    },
    {
      "cell_type": "code",
      "source": [],
      "metadata": {
        "id": "5dW0dwjQ6Mpf"
      },
      "execution_count": null,
      "outputs": []
    },
    {
      "cell_type": "code",
      "source": [],
      "metadata": {
        "id": "_YekIHHQ6MkB"
      },
      "execution_count": null,
      "outputs": []
    },
    {
      "cell_type": "code",
      "source": [],
      "metadata": {
        "id": "4OfQ98CE6Mh9"
      },
      "execution_count": null,
      "outputs": []
    }
  ]
}