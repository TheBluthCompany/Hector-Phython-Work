{
 "cells": [
  {
   "cell_type": "code",
   "execution_count": 12,
   "id": "46e1d9bf",
   "metadata": {},
   "outputs": [],
   "source": [
    "#invite all of our frendz\n",
    "\n",
    "import numpy as np\n",
    "import talib as talib\n",
    "import yfinance as yf\n",
    "import pandas as pandas\n",
    "import matplotlib\n",
    "import matplotlib.pyplot as plt"
   ]
  },
  {
   "cell_type": "code",
   "execution_count": 13,
   "id": "367145f2",
   "metadata": {},
   "outputs": [
    {
     "name": "stderr",
     "output_type": "stream",
     "text": [
      "[*********************100%***********************]  1 of 1 completed\n"
     ]
    },
    {
     "data": {
      "text/html": [
       "<div>\n",
       "<style scoped>\n",
       "    .dataframe tbody tr th:only-of-type {\n",
       "        vertical-align: middle;\n",
       "    }\n",
       "\n",
       "    .dataframe tbody tr th {\n",
       "        vertical-align: top;\n",
       "    }\n",
       "\n",
       "    .dataframe thead tr th {\n",
       "        text-align: left;\n",
       "    }\n",
       "\n",
       "    .dataframe thead tr:last-of-type th {\n",
       "        text-align: right;\n",
       "    }\n",
       "</style>\n",
       "<table border=\"1\" class=\"dataframe\">\n",
       "  <thead>\n",
       "    <tr>\n",
       "      <th>Price</th>\n",
       "      <th>Close</th>\n",
       "      <th>High</th>\n",
       "      <th>Low</th>\n",
       "      <th>Open</th>\n",
       "      <th>Volume</th>\n",
       "    </tr>\n",
       "    <tr>\n",
       "      <th>Ticker</th>\n",
       "      <th>SPY</th>\n",
       "      <th>SPY</th>\n",
       "      <th>SPY</th>\n",
       "      <th>SPY</th>\n",
       "      <th>SPY</th>\n",
       "    </tr>\n",
       "    <tr>\n",
       "      <th>Date</th>\n",
       "      <th></th>\n",
       "      <th></th>\n",
       "      <th></th>\n",
       "      <th></th>\n",
       "      <th></th>\n",
       "    </tr>\n",
       "  </thead>\n",
       "  <tbody>\n",
       "    <tr>\n",
       "      <th>1993-01-29</th>\n",
       "      <td>24.526087</td>\n",
       "      <td>24.543531</td>\n",
       "      <td>24.421424</td>\n",
       "      <td>24.543531</td>\n",
       "      <td>1003200</td>\n",
       "    </tr>\n",
       "    <tr>\n",
       "      <th>1993-02-01</th>\n",
       "      <td>24.700520</td>\n",
       "      <td>24.700520</td>\n",
       "      <td>24.543525</td>\n",
       "      <td>24.543525</td>\n",
       "      <td>480500</td>\n",
       "    </tr>\n",
       "    <tr>\n",
       "      <th>1993-02-02</th>\n",
       "      <td>24.752838</td>\n",
       "      <td>24.770282</td>\n",
       "      <td>24.630731</td>\n",
       "      <td>24.683063</td>\n",
       "      <td>201300</td>\n",
       "    </tr>\n",
       "    <tr>\n",
       "      <th>1993-02-03</th>\n",
       "      <td>25.014498</td>\n",
       "      <td>25.031942</td>\n",
       "      <td>24.770284</td>\n",
       "      <td>24.787728</td>\n",
       "      <td>529400</td>\n",
       "    </tr>\n",
       "    <tr>\n",
       "      <th>1993-02-04</th>\n",
       "      <td>25.119167</td>\n",
       "      <td>25.171499</td>\n",
       "      <td>24.822622</td>\n",
       "      <td>25.101723</td>\n",
       "      <td>531500</td>\n",
       "    </tr>\n",
       "    <tr>\n",
       "      <th>...</th>\n",
       "      <td>...</td>\n",
       "      <td>...</td>\n",
       "      <td>...</td>\n",
       "      <td>...</td>\n",
       "      <td>...</td>\n",
       "    </tr>\n",
       "    <tr>\n",
       "      <th>2025-01-13</th>\n",
       "      <td>581.390015</td>\n",
       "      <td>581.750000</td>\n",
       "      <td>575.349976</td>\n",
       "      <td>575.770020</td>\n",
       "      <td>47910100</td>\n",
       "    </tr>\n",
       "    <tr>\n",
       "      <th>2025-01-14</th>\n",
       "      <td>582.190002</td>\n",
       "      <td>585.000000</td>\n",
       "      <td>578.349976</td>\n",
       "      <td>584.359985</td>\n",
       "      <td>48420600</td>\n",
       "    </tr>\n",
       "    <tr>\n",
       "      <th>2025-01-15</th>\n",
       "      <td>592.780029</td>\n",
       "      <td>593.940002</td>\n",
       "      <td>589.200012</td>\n",
       "      <td>590.330017</td>\n",
       "      <td>56900200</td>\n",
       "    </tr>\n",
       "    <tr>\n",
       "      <th>2025-01-16</th>\n",
       "      <td>591.640015</td>\n",
       "      <td>594.349976</td>\n",
       "      <td>590.929993</td>\n",
       "      <td>594.169983</td>\n",
       "      <td>43319700</td>\n",
       "    </tr>\n",
       "    <tr>\n",
       "      <th>2025-01-17</th>\n",
       "      <td>597.580017</td>\n",
       "      <td>599.359985</td>\n",
       "      <td>595.609985</td>\n",
       "      <td>596.960022</td>\n",
       "      <td>58026200</td>\n",
       "    </tr>\n",
       "  </tbody>\n",
       "</table>\n",
       "<p>8049 rows × 5 columns</p>\n",
       "</div>"
      ],
      "text/plain": [
       "Price            Close        High         Low        Open    Volume\n",
       "Ticker             SPY         SPY         SPY         SPY       SPY\n",
       "Date                                                                \n",
       "1993-01-29   24.526087   24.543531   24.421424   24.543531   1003200\n",
       "1993-02-01   24.700520   24.700520   24.543525   24.543525    480500\n",
       "1993-02-02   24.752838   24.770282   24.630731   24.683063    201300\n",
       "1993-02-03   25.014498   25.031942   24.770284   24.787728    529400\n",
       "1993-02-04   25.119167   25.171499   24.822622   25.101723    531500\n",
       "...                ...         ...         ...         ...       ...\n",
       "2025-01-13  581.390015  581.750000  575.349976  575.770020  47910100\n",
       "2025-01-14  582.190002  585.000000  578.349976  584.359985  48420600\n",
       "2025-01-15  592.780029  593.940002  589.200012  590.330017  56900200\n",
       "2025-01-16  591.640015  594.349976  590.929993  594.169983  43319700\n",
       "2025-01-17  597.580017  599.359985  595.609985  596.960022  58026200\n",
       "\n",
       "[8049 rows x 5 columns]"
      ]
     },
     "execution_count": 13,
     "metadata": {},
     "output_type": "execute_result"
    }
   ],
   "source": [
    "#download our USD/SEK dataset\n",
    "\n",
    "df = yf.download(\"SPY\")\n",
    "\n",
    "df"
   ]
  },
  {
   "cell_type": "code",
   "execution_count": 14,
   "id": "d6b928fd",
   "metadata": {},
   "outputs": [
    {
     "data": {
      "text/plain": [
       "[<matplotlib.lines.Line2D at 0x1fbd498cfa0>]"
      ]
     },
     "execution_count": 14,
     "metadata": {},
     "output_type": "execute_result"
    },
    {
     "data": {
      "image/png": "[encoded data removed]",
      "text/plain": [
       "<Figure size 432x288 with 1 Axes>"
      ]
     },
     "metadata": {
      "needs_background": "light"
     },
     "output_type": "display_data"
    }
   ],
   "source": [
    "#calculate or simple moving averages\n",
    "\n",
    "close_price = df['Close']\n",
    "sma50 = close_price.rolling(50).mean()\n",
    "sma200 = close_price.rolling(200).mean()\n",
    "\n",
    "plt.plot(sma50) #blue\n",
    "plt.plot(sma200) #orange\n",
    "\n",
    "#bullish to bearish, and vice-versa, causes direction to change and slopes to hit. \n",
    "\n",
    "#maybe, for you, there's a tomorrow. there's 1,000, 3,000, 10,000; but for some of us, there's only today..."
   ]
  },
  {
   "cell_type": "code",
   "execution_count": 16,
   "id": "84ac3447",
   "metadata": {},
   "outputs": [
    {
     "name": "stdout",
     "output_type": "stream",
     "text": [
      "The difference between the third, and second, day of trading are as follows: Ticker\n",
      "SPY    0.26166\n",
      "dtype: float64\n",
      "Ticker\n",
      "SPY    25.119167\n",
      "Name: 1993-02-04 00:00:00, dtype: float64\n",
      "Ticker\n",
      "SPY    25.014498\n",
      "Name: 1993-02-03 00:00:00, dtype: float64\n",
      "-0.06970000000000098\n"
     ]
    }
   ],
   "source": [
    "print(\"The difference between the third, and second, day of trading are as follows:\", close_price.iloc[3] - close_price.iloc[2])\n",
    "\n",
    "print(close_price.iloc[4])\n",
    "print(close_price.iloc[3])\n",
    "\n",
    "\n",
    "print(10.5598-10.6295)"
   ]
  },
  {
   "cell_type": "code",
   "execution_count": 19,
   "id": "1984551b",
   "metadata": {
    "scrolled": true
   },
   "outputs": [
    {
     "data": {
      "text/plain": [
       "[<matplotlib.lines.Line2D at 0x1fbd4d1d8b0>]"
      ]
     },
     "execution_count": 19,
     "metadata": {},
     "output_type": "execute_result"
    },
    {
     "data": {
      "image/png": "[encoded data removed]",
      "text/plain": [
       "<Figure size 432x288 with 1 Axes>"
      ]
     },
     "metadata": {
      "needs_background": "light"
     },
     "output_type": "display_data"
    }
   ],
   "source": [
    "#begin the SMA crossover trading strategy\n",
    "\n",
    "plt.plot(sma50)\n",
    "plt.plot(sma200)"
   ]
  },
  {
   "cell_type": "code",
   "execution_count": 20,
   "id": "fd757e7a",
   "metadata": {
    "scrolled": false
   },
   "outputs": [
    {
     "name": "stdout",
     "output_type": "stream",
     "text": [
      "LONG on 1994-09-01 00:00:00, PnL is: 6.0325395518262\n",
      "SHORT on 1998-10-01 00:00:00, PnL is: -125.67028571266184\n",
      "LONG on 1998-12-04 00:00:00, PnL is: 19.79749930786136\n",
      "SHORT on 2000-11-02 00:00:00, PnL is: -23.16145029842369\n",
      "LONG on 2002-04-19 00:00:00, PnL is: -19.41117233456885\n",
      "SHORT on 2002-05-17 00:00:00, PnL is: 1.7540778077943353\n",
      "LONG on 2003-05-12 00:00:00, PnL is: -12.987884857028314\n",
      "SHORT on 2004-08-25 00:00:00, PnL is: -19.37643335655369\n",
      "LONG on 2004-10-27 00:00:00, PnL is: 2.0250760243865273\n",
      "SHORT on 2006-07-25 00:00:00, PnL is: -16.034253809526597\n",
      "LONG on 2006-08-29 00:00:00, PnL is: 3.0948522357854125\n",
      "SHORT on 2007-12-28 00:00:00, PnL is: -16.03423121174471\n",
      "LONG on 2009-06-18 00:00:00, PnL is: -35.427254020567084\n",
      "SHORT on 2010-07-07 00:00:00, PnL is: -17.928607230154643\n",
      "LONG on 2010-10-13 00:00:00, PnL is: 11.724928062238122\n",
      "SHORT on 2011-08-17 00:00:00, PnL is: -2.968915558388779\n",
      "LONG on 2012-01-23 00:00:00, PnL is: 11.247524354928586\n",
      "SHORT on 2015-09-03 00:00:00, PnL is: -59.44924331183202\n",
      "LONG on 2015-12-09 00:00:00, PnL is: 5.552314560919862\n",
      "SHORT on 2016-01-15 00:00:00, PnL is: 7.992743522216207\n",
      "LONG on 2016-04-20 00:00:00, PnL is: 12.445405992947691\n",
      "SHORT on 2018-12-12 00:00:00, PnL is: -32.60854544660954\n",
      "LONG on 2019-03-26 00:00:00, PnL is: 6.986779333637444\n",
      "SHORT on 2020-03-31 00:00:00, PnL is: 6.43976208016645\n",
      "LONG on 2020-07-06 00:00:00, PnL is: 23.548065928825693\n",
      "SHORT on 2022-03-16 00:00:00, PnL is: -40.3825980942234\n",
      "LONG on 2023-01-26 00:00:00, PnL is: -5.579083214320485\n",
      "[ 6.03253955e+00 -7.58110969e+02 -1.50087014e+04  3.47623291e+05\n",
      " -6.74777561e+06 -1.18361235e+07  1.53726209e+08 -2.97866564e+09\n",
      " -6.03202436e+09  9.67190096e+10  2.99331043e+11 -4.79954316e+12\n",
      "  1.70034635e+14 -3.04848418e+15 -3.57432577e+16  1.06118714e+17\n",
      "  1.19357282e+18 -7.09570009e+19 -3.93975589e+20 -3.14894584e+21\n",
      " -3.91899094e+22  1.27792594e+24  8.92858656e+24  5.74979732e+25\n",
      "  1.35396606e+27 -5.46766674e+28  3.05045677e+29]\n"
     ]
    },
    {
     "data": {
      "text/plain": [
       "[<matplotlib.lines.Line2D at 0x1fbd4cac970>]"
      ]
     },
     "execution_count": 20,
     "metadata": {},
     "output_type": "execute_result"
    },
    {
     "data": {
      "image/png": "[encoded data removed]",
      "text/plain": [
       "<Figure size 432x288 with 1 Axes>"
      ]
     },
     "metadata": {
      "needs_background": "light"
     },
     "output_type": "display_data"
    }
   ],
   "source": [
    "#loop that provides us with price data over time, and our trading signals\n",
    "\n",
    "entry = None #remember, for the very first time, there isn't an entry price to calculate. We use \"None\". \n",
    "PnLs = []\n",
    "dates = []\n",
    "for i in range(len(close_price)):\n",
    "    if i >= 50:\n",
    "        if ((sma50.loc[sma50.index[i-1], \"SPY\"] > sma200.loc[sma200.index[i-1], \"SPY\"])) and ((sma50.loc[sma50.index[i], \"SPY\"] < sma200.loc[sma200.index[i], \"SPY\"])):\n",
    "            if entry:\n",
    "                PnL = (((entry - close_price.loc[close_price.index[i], \"SPY\"]) / entry)* 100)\n",
    "                print(f'SHORT on {close_price.index[i]}, PnL is: {PnL}')\n",
    "                PnLs.append(PnL)\n",
    "                dates.append(close_price.index[i])\n",
    "\n",
    "            entry = close_price.loc[close_price.index[i], \"SPY\"]\n",
    "            \n",
    "            \n",
    "            \n",
    "        elif ((sma50.loc[sma50.index[i-1], \"SPY\"] < sma200.loc[sma200.index[i-1], \"SPY\"])) and ((sma50.loc[sma50.index[i], \"SPY\"] > sma200.loc[sma200.index[i], \"SPY\"])):\n",
    "            if entry:\n",
    "                PnL = ((close_price.loc[close_price.index[i], \"SPY\"] - entry) / entry ) *100\n",
    "                print(f'LONG on {close_price.index[i]}, PnL is: {PnL}')\n",
    "                PnLs.append(PnL)\n",
    "                dates.append(close_price.index[i])\n",
    "                \n",
    "            entry = close_price.loc[close_price.index[i], \"SPY\"]\n",
    "print(np.cumprod(PnLs))\n",
    "plt.plot(dates, np.cumprod(PnLs)) #We're using np.cumsum() because we want to show a rolling sum of our PnL's, \n",
    "                                 #instead of just every single PnL scattered around. plt.plot(x_axis, y_axis)\n",
    "    \n"
   ]
  },
  {
   "cell_type": "code",
   "execution_count": 27,
   "id": "e6140473",
   "metadata": {},
   "outputs": [],
   "source": [
    "\n"
   ]
  },
  {
   "cell_type": "code",
   "execution_count": 31,
   "id": "29593e55",
   "metadata": {},
   "outputs": [
    {
     "data": {
      "text/plain": [
       "24.700519561767578"
      ]
     },
     "execution_count": 31,
     "metadata": {},
     "output_type": "execute_result"
    }
   ],
   "source": [
    "close_price.loc[close_price.index[1], \"SPY\"]"
   ]
  },
  {
   "cell_type": "code",
   "execution_count": 32,
   "id": "45d2ac37",
   "metadata": {},
   "outputs": [
    {
     "data": {
      "text/plain": [
       "[<matplotlib.lines.Line2D at 0x1fbd49becd0>]"
      ]
     },
     "execution_count": 32,
     "metadata": {},
     "output_type": "execute_result"
    },
    {
     "data": {
      "image/png": "[encoded data removed]",
      "text/plain": [
       "<Figure size 432x288 with 1 Axes>"
      ]
     },
     "metadata": {
      "needs_background": "light"
     },
     "output_type": "display_data"
    }
   ],
   "source": [
    "#Let's visualize then the Sep'24 Death Cross was hit\n",
    "\n",
    "plt.plot(sma50.loc['1998-09-01 00:00:00': \"1998-12-25 00:00:00\" , \"SPY\"])\n",
    "plt.plot(sma200.loc['1998-09-01 00:00:00': \"1998-12-25 00:00:00\" , \"SPY\"])\n"
   ]
  },
  {
   "cell_type": "code",
   "execution_count": 33,
   "id": "62510e9b",
   "metadata": {},
   "outputs": [
    {
     "data": {
      "text/plain": [
       "589.0574340820312"
      ]
     },
     "execution_count": 33,
     "metadata": {},
     "output_type": "execute_result"
    }
   ],
   "source": [
    "close_price.loc[close_price.index[8000], 'SPY']"
   ]
  },
  {
   "cell_type": "code",
   "execution_count": 44,
   "id": "d19dbb84",
   "metadata": {},
   "outputs": [
    {
     "name": "stderr",
     "output_type": "stream",
     "text": [
      "[*********************100%***********************]  1 of 1 completed"
     ]
    },
    {
     "name": "stdout",
     "output_type": "stream",
     "text": [
      "2025-01-25\n"
     ]
    },
    {
     "name": "stderr",
     "output_type": "stream",
     "text": [
      "\n"
     ]
    },
    {
     "name": "stdout",
     "output_type": "stream",
     "text": [
      "BUY @ 2021-03-19 00:00:00 8.506850242614746\n",
      "SELL @ 2021-05-12 00:00:00 8.319330215454102\n",
      "831933.0215454102\n",
      "BUY @ 2021-07-05 00:00:00 8.546299934387207\n",
      "SELL @ 2021-11-04 00:00:00 8.527739524841309\n",
      "852773.9524841309\n",
      "BUY @ 2021-11-22 00:00:00 8.956390380859375\n",
      "SELL @ 2022-11-28 00:00:00 10.45557975769043\n",
      "1045557.975769043\n",
      "BUY @ 2023-03-15 00:00:00 10.468700408935547\n",
      "SELL @ 2023-04-07 00:00:00 10.421119689941406\n",
      "1042111.9689941406\n",
      "BUY @ 2023-05-29 00:00:00 10.798800468444824\n",
      "SELL @ 2023-08-01 00:00:00 10.521730422973633\n",
      "1052173.0422973633\n",
      "BUY @ 2023-08-15 00:00:00 10.799799919128418\n",
      "SELL @ 2023-11-23 00:00:00 10.476099967956543\n",
      "1047609.9967956543\n",
      "BUY @ 2024-03-28 00:00:00 10.638039588928223\n",
      "SELL @ 2024-06-13 00:00:00 10.377599716186523\n",
      "1037759.9716186523\n",
      "BUY @ 2024-08-05 00:00:00 10.557000160217285\n",
      "SELL @ 2024-08-06 00:00:00 10.525870323181152\n",
      "1052587.0323181152\n",
      "BUY @ 2024-10-29 00:00:00 10.643349647521973\n"
     ]
    }
   ],
   "source": [
    "'''Strategy Outline\n",
    "Use moving averages (MA) to identify trends. For example:\n",
    "Buy USD/SEK when the short-term MA (e.g., 20-day) crosses above the long-term MA (e.g., 50-day).\n",
    "Sell USD/SEK when the short-term MA crosses below the long-term MA.\n",
    "Include an ATR (Average True Range) filter to ensure you only trade during higher volatility periods.\n",
    "\n",
    "Backtest over a 5-year horizon using daily price data.\n",
    "Your First Task:\n",
    "Get the Data: Pull USD/SEK daily historical data for the last 5 years. You can use sources like Yahoo Finance (yfinance), Bloomberg, or any API you prefer.\n",
    "Clean the Data: Ensure timestamps are uniform, and handle missing data (interpolation or drop).\n",
    "Plot the Data: Plot USD/SEK's daily close to understand trends and volatility over time.\n",
    "Once you’ve got that, send me the code or results, and we’ll layer on the moving average strategy next. How does that sound?\n",
    "\n",
    "#position sizes? \n",
    "Got it! Let’s go with volatility-adjusted sizing using ATR to determine position size. This way, you’re adjusting for market conditions and ensuring that during higher volatility (when ATR is larger), you’re taking smaller positions, and during low volatility, you're able to take larger positions. It’s a more adaptive approach that ensures consistent risk management across varying market environments.\n",
    "\n",
    "Here’s how we could structure it:\n",
    "\n",
    "Risk per trade: Let’s say we risk 1% of total equity per trade.\n",
    "Position size: Position size = (Risk per trade) / (ATR * Stop-Loss distance in SEK).\n",
    "This gives us a dynamic sizing model that adjusts depending on the volatility of the USD/SEK pair.\n",
    "\n",
    "How does that sound to you?\n",
    "\n",
    "'''\n",
    "#The average volatility range for the Dollar Krona is 0.93% - trade in times where vol > 93% & SMA's cross. \n",
    "\n",
    "import pandas as pd\n",
    "import numpy as np\n",
    "import talib as ta\n",
    "import matplotlib.pyplot as plt\n",
    "import matplotlib\n",
    "import yfinance as yf\n",
    "import datetime\n",
    "\n",
    "print(datetime.date.today())\n",
    "\n",
    "#Environment-specifics\n",
    "initial_aum = 600000000\n",
    "risk_per_trade = 600000000 * 0.01\n",
    "one_lot = 100000\n",
    "margin = 2.00\n",
    "\n",
    "#Dataframes & Data-to-use\n",
    "    #Timeframe:\n",
    "horizon = datetime.timedelta(365*5) #5-year horizon\n",
    "\n",
    "    #Dataframe\n",
    "USDSEK_df = yf.download(\"USDSEK=X\", datetime.date.today()-horizon,datetime.date.today())\n",
    "USDSEK_Close_Price = USDSEK_df['Close']\n",
    "\n",
    "    #Moving Averages\n",
    "sma20 = USDSEK_Close_Price.rolling(20).mean()      #blue\n",
    "sma100 = USDSEK_Close_Price.rolling(100).mean()    #orange\n",
    "\n",
    "    #Calculating our ATR\n",
    "highs = []\n",
    "lows = []\n",
    "closes = []\n",
    "ticker = \"USDSEK=X\"\n",
    "\n",
    "for i in range(len(USDSEK_df)):\n",
    "    highs.append(USDSEK_df[\"High\"].loc[USDSEK_df['High'].index[i], \"USDSEK=X\"])\n",
    "    lows.append(USDSEK_df[\"Low\"].loc[USDSEK_df[\"Low\"].index[i], \"USDSEK=X\"])\n",
    "    closes.append(USDSEK_df[\"Low\"].loc[USDSEK_df[\"Low\"].index[i], \"USDSEK=X\"])\n",
    "highs_series = pd.Series(highs)\n",
    "highs_array = np.array(highs_series)\n",
    "lows_series = pd.Series(lows)\n",
    "lows_array = np.array(lows_series)\n",
    "closes_series = pd.Series(closes)\n",
    "closes_array = np.array(closes_series)\n",
    "ATR = ta.ATR(highs_array, lows_array, closes_array, timeperiod = 14)\n",
    "#ATR = 0.93\n",
    "\n",
    "#Trading\n",
    "PNLs = []\n",
    "positions = {}\n",
    "trade_book = []\n",
    "entry = None\n",
    "\n",
    "for i in range(len(USDSEK_Close_Price)):\n",
    "    if i >= 50:\n",
    "        if ATR[i] > 0.05:\n",
    "            #print(ATR[i])\n",
    "            if (sma20.loc[sma20.index[i-1], \"USDSEK=X\"] > sma100.loc[sma100.index[i-1], \"USDSEK=X\"]) and (sma20.loc[sma20.index[i], \"USDSEK=X\"] < sma100.loc[sma100.index[i], \"USDSEK=X\"]):\n",
    "                # Convert USD to SEK\n",
    "                USDtoSEK = risk_per_trade * USDSEK_Close_Price.loc[USDSEK_Close_Price.index[i], ticker]\n",
    "                # Determine value of lots in SEK\n",
    "                SEKtoLOT = one_lot * USDSEK_Close_Price.loc[USDSEK_Close_Price.index[i], ticker]\n",
    "                # How many lots can we buy? \n",
    "                risk_played = USDtoSEK / SEKtoLOT\n",
    "                positions[USDSEK_Close_Price.index[i]] = {\n",
    "                    \n",
    "                    \"Order\": \"SELL\",\n",
    "                    \"Price\": USDSEK_Close_Price.loc[USDSEK_Close_Price.index[i], \"USDSEK=X\"],\n",
    "                    \"Order Size\": risk_played,\n",
    "                    \"ATR\": ATR[i]\n",
    "                }\n",
    "                \n",
    "                # Calculate our PNLs\n",
    "                if entry:\n",
    "                    PNLs.append(USDSEK_Close_Price.loc[USDSEK_Close_Price.index[i], ticker] / entry)\n",
    "                    entry = USDSEK_Close_Price.loc[USDSEK_Close_Price.index[i], ticker]\n",
    "                else:\n",
    "                    entry = USDSEK_Close_Price.loc[USDSEK_Close_Price.index[i], ticker]\n",
    "                \n",
    "                \n",
    "                \n",
    "                pd.concat([pd.Series(USDSEK_Close_Price.index[i], \n",
    "                                     pd.Series(USDSEK_Close_Price.loc[USDSEK_Close_Price.index[i], \n",
    "                                                                      ticker]))], ignore_index = True)\n",
    "                \n",
    "                print(f\"SELL @ {USDSEK_Close_Price.index[i]} {USDSEK_Close_Price.loc[USDSEK_Close_Price.index[i], ticker]}\")\n",
    "                print(SEKtoLOT)\n",
    "                \n",
    "            elif (sma20.loc[sma20.index[i-1], \"USDSEK=X\"] < sma100.loc[sma100.index[i-1], \"USDSEK=X\"]) and (sma20.loc[sma20.index[i], \"USDSEK=X\"] > sma100.loc[sma100.index[i], \"USDSEK=X\"]):\n",
    "\n",
    "                USDtoSEK = risk_per_trade * USDSEK_Close_Price.loc[USDSEK_Close_Price.index[i], ticker]\n",
    "                SEKtoLOT = one_lot * USDSEK_Close_Price.loc[USDSEK_Close_Price.index[i], ticker]\n",
    "                risk_played = USDtoSEK / SEKtoLOT\n",
    "                positions[USDSEK_Close_Price.index[i]] = {\n",
    "                    \n",
    "                    \"Order\": \"BUY\",\n",
    "                    \"Price\": USDSEK_Close_Price.loc[USDSEK_Close_Price.index[i], \"USDSEK=X\"],\n",
    "                    \"Order Size\": risk_played,\n",
    "                    \"ATR\": ATR[i]\n",
    "                }\n",
    "                \n",
    "                # Calculate our PNLs\n",
    "                if entry:\n",
    "                    PNLs.append(USDSEK_Close_Price.loc[USDSEK_Close_Price.index[i], ticker] / entry)\n",
    "                    entry = USDSEK_Close_Price.loc[USDSEK_Close_Price.index[i], ticker]\n",
    "                else:\n",
    "                    entry = USDSEK_Close_Price.loc[USDSEK_Close_Price.index[i], ticker]                \n",
    "\n",
    "                \n",
    "                \n",
    "                \n",
    "                pd.concat([pd.Series(USDSEK_Close_Price.index[i], \n",
    "                                     pd.Series(USDSEK_Close_Price.loc[USDSEK_Close_Price.index[i], \n",
    "                                                                      ticker]))], ignore_index = True)\n",
    "                                \n",
    "                \n",
    "                \n",
    "                \n",
    "                \n",
    "                \n",
    "                \n",
    "                \n",
    "                \n",
    "                \n",
    "                \n",
    "                \n",
    "                \n",
    "                \n",
    "                print(f\"BUY @ {USDSEK_Close_Price.index[i]} {USDSEK_Close_Price.loc[USDSEK_Close_Price.index[i], ticker]}\")\n",
    "                \n"
   ]
  },
  {
   "cell_type": "code",
   "execution_count": 151,
   "id": "3703f8ca",
   "metadata": {},
   "outputs": [
    {
     "data": {
      "text/plain": [
       "[<matplotlib.lines.Line2D at 0x17db54e2fa0>]"
      ]
     },
     "execution_count": 151,
     "metadata": {},
     "output_type": "execute_result"
    },
    {
     "data": {
      "image/png": "[encoded data removed]",
      "text/plain": [
       "<Figure size 432x288 with 1 Axes>"
      ]
     },
     "metadata": {
      "needs_background": "light"
     },
     "output_type": "display_data"
    }
   ],
   "source": [
    "plt.plot(np.cumprod(np.array(PNLs)))"
   ]
  },
  {
   "cell_type": "code",
   "execution_count": 104,
   "id": "089ae73c",
   "metadata": {},
   "outputs": [
    {
     "data": {
      "text/plain": [
       "9.620599746704102"
      ]
     },
     "execution_count": 104,
     "metadata": {},
     "output_type": "execute_result"
    }
   ],
   "source": [
    "USDSEK_Close_Price.loc[USDSEK_Close_Price.index[1], ticker]"
   ]
  },
  {
   "cell_type": "code",
   "execution_count": 140,
   "id": "c5a13e48",
   "metadata": {},
   "outputs": [
    {
     "data": {
      "text/plain": [
       "4"
      ]
     },
     "execution_count": 140,
     "metadata": {},
     "output_type": "execute_result"
    }
   ],
   "source": [
    "asss = [2, 4]\n",
    "\n",
    "asss[1]"
   ]
  },
  {
   "cell_type": "code",
   "execution_count": 363,
   "id": "845aff4a",
   "metadata": {},
   "outputs": [
    {
     "data": {
      "text/plain": [
       "0          9.48515\n",
       "1          9.49768\n",
       "2          9.52353\n",
       "3          9.53342\n",
       "4          9.53722\n",
       "           ...    \n",
       "1298      11.10557\n",
       "1299      11.20174\n",
       "1300      11.18063\n",
       "1301      11.24724\n",
       "0       2909.00000\n",
       "Length: 1303, dtype: float64"
      ]
     },
     "execution_count": 363,
     "metadata": {},
     "output_type": "execute_result"
    }
   ],
   "source": [
    "highs_series\n",
    "idk = pd.Series(2909)\n",
    "highs_series\n",
    "\n",
    "pd.concat([highs_series, idk])"
   ]
  },
  {
   "cell_type": "code",
   "execution_count": 320,
   "id": "b7787a61",
   "metadata": {},
   "outputs": [
    {
     "data": {
      "text/plain": [
       "[<matplotlib.lines.Line2D at 0x2b2bfd6adc0>]"
      ]
     },
     "execution_count": 320,
     "metadata": {},
     "output_type": "execute_result"
    },
    {
     "data": {
      "image/png": "[encoded data removed]",
      "text/plain": [
       "<Figure size 432x288 with 1 Axes>"
      ]
     },
     "metadata": {
      "needs_background": "light"
     },
     "output_type": "display_data"
    }
   ],
   "source": [
    "plt.plot(sma20)\n",
    "plt.plot(sma100)"
   ]
  },
  {
   "cell_type": "code",
   "execution_count": 154,
   "id": "a2a08a69",
   "metadata": {},
   "outputs": [
    {
     "name": "stderr",
     "output_type": "stream",
     "text": [
      "[*********************100%***********************]  1 of 1 completed\n"
     ]
    },
    {
     "name": "stdout",
     "output_type": "stream",
     "text": [
      "[0.97795659 1.0046374  1.00245558 1.05284449 1.22907768 1.23062004\n",
      " 1.22502682 1.26942407 1.23685384 1.26954156 1.23148988 1.25052626\n",
      " 1.21991094 1.24099988 1.2373405  1.25115047]\n"
     ]
    }
   ],
   "source": [
    "'''\n",
    "Last updated: 1.26.2025\n",
    "'''\n",
    "\n",
    "import pandas as pd\n",
    "import numpy as np\n",
    "import talib as ta\n",
    "import matplotlib.pyplot as plt\n",
    "import matplotlib\n",
    "import yfinance as yf\n",
    "import datetime\n",
    "\n",
    "#Environment-specifics\n",
    "initial_aum = 600000000\n",
    "risk_per_trade = 600000000 * 0.01\n",
    "one_lot = 100000\n",
    "margin = 2.00\n",
    "\n",
    "#Dataframes; Data\n",
    "    #Timeframe:\n",
    "horizon = datetime.timedelta(365*5) #5-year horizon\n",
    "\n",
    "    #Dataframe\n",
    "USDSEK_df = yf.download(\"USDSEK=X\", datetime.date.today()-horizon,datetime.date.today())\n",
    "USDSEK_Close_Price = USDSEK_df['Close']\n",
    "\n",
    "    #Moving Averages\n",
    "sma20 = USDSEK_Close_Price.rolling(20).mean()      #blue\n",
    "sma100 = USDSEK_Close_Price.rolling(100).mean()    #orange\n",
    "\n",
    "    #Calculating our ATR\n",
    "highs = []\n",
    "lows = []\n",
    "closes = []\n",
    "ticker = \"USDSEK=X\"\n",
    "ATR_multiple = 2.00\n",
    "vol_adjustment = [.95, 1.05]\n",
    "\n",
    "\n",
    "for i in range(len(USDSEK_df)):\n",
    "    highs.append(USDSEK_df[\"High\"].loc[USDSEK_df['High'].index[i], \"USDSEK=X\"])\n",
    "    lows.append(USDSEK_df[\"Low\"].loc[USDSEK_df[\"Low\"].index[i], \"USDSEK=X\"])\n",
    "    closes.append(USDSEK_df[\"Low\"].loc[USDSEK_df[\"Low\"].index[i], \"USDSEK=X\"])\n",
    "highs_series = pd.Series(highs)\n",
    "highs_array = np.array(highs_series)\n",
    "lows_series = pd.Series(lows)\n",
    "lows_array = np.array(lows_series)\n",
    "closes_series = pd.Series(closes)\n",
    "closes_array = np.array(closes_series)\n",
    "\n",
    "ATR = ta.ATR(highs_array, lows_array, closes_array, timeperiod = 14)\n",
    "\n",
    "#Trading\n",
    "PNLs = []\n",
    "positions = {}\n",
    "trade_book = []\n",
    "entry = None\n",
    "\n",
    "for i in range(len(USDSEK_Close_Price)):\n",
    "    if i >=14:\n",
    "        #if ATR is bigger, at this moment, as the past 14 day ATR\n",
    "        if ATR[i] > np.mean(ATR[i-14: i]):\n",
    "            #trade smaller position due to larger vol\n",
    "            if (sma20.loc[sma20.index[i-1], ticker] > sma100.loc[sma100.index[i-1], ticker]) and (sma20.loc[sma20.index[i], ticker] < sma100.loc[sma100.index[i], ticker]):\n",
    "                #Calculate Pip Value\n",
    "                pip_value = one_lot * 0.0001 * USDSEK_Close_Price.loc[USDSEK_Close_Price.index[i], ticker]\n",
    "                \n",
    "                #Adjust Position Size due to Vol\n",
    "                position_size = risk_per_trade / ((pip_value * vol_adjustment[1])  * ATR[i])\n",
    "                \n",
    "                #Append to Positions Dictionary\n",
    "                positions[USDSEK_Close_Price.index[i]] = {\n",
    "                    \"Order\": \"SELL\",\n",
    "                    \"Price\": USDSEK_Close_Price.loc[USDSEK_Close_Price.index[i], ticker],\n",
    "                    \"Order Size\": position_size,\n",
    "                    \"ATR\": ATR[i]}\n",
    "                \n",
    "                #Calculate the Trade's PNL\n",
    "                if entry:\n",
    "                    PNLs.append(USDSEK_Close_Price.loc[USDSEK_Close_Price.index[i], ticker] / entry)\n",
    "                    entry = USDSEK_Close_Price.loc[USDSEK_Close_Price.index[i], ticker]\n",
    "                else:\n",
    "                    entry = USDSE_Close_Price.loc[USDSEK_Close_Price.index[i], ticker]\n",
    "\n",
    "            elif (sma20.loc[sma20.index[i-1], ticker] < sma100.loc[sma100.index[i-1], ticker]) and (sma20.loc[sma20.index[i], ticker] > sma100.loc[sma100.index[i], ticker]):\n",
    "                pip_value = one_lot * 0.0001 * USDSEK_Close_Price.loc[USDSEK_Close_Price.index[i], ticker]\n",
    "                position_size = risk_per_trade / ((pip_value * vol_adjustment[1])  * ATR[i])\n",
    "                positions[USDSEK_Close_Price.index[i]] = {\n",
    "                    \"Order\": \"BUY\",\n",
    "                    \"Price\": USDSEK_Close_Price.loc[USDSEK_Close_Price.index[i], ticker],\n",
    "                    \"Order Size\": position_size,\n",
    "                    \"ATR\": ATR[i]}                    \n",
    "                if entry:\n",
    "                    PNLs.append(USDSEK_Close_Price.loc[USDSEK_Close_Price.index[i], ticker] / entry)\n",
    "                    entry = USDSEK_Close_Price.loc[USDSEK_Close_Price.index[i], ticker]\n",
    "\n",
    "                else:\n",
    "                    entry = USDSEK_Close_Price.loc[USDSEK_Close_Price.index[i], ticker]\n",
    "                    \n",
    "        elif ATR[i] < np.mean(ATR[i-14:i]):\n",
    "            if (sma20.loc[sma20.index[i-1], ticker] > sma100.loc[sma100.index[i-1], ticker]) and (sma20.loc[sma20.index[i], ticker] < sma100.loc[sma100.index[i], ticker]):\n",
    "                pip_value = one_lot * 0.0001 * USDSEK_Close_Price.loc[USDSEK_Close_Price.index[i], ticker]\n",
    "                position_size = risk_per_trade / ((pip_value * vol_adjustment[0])  * ATR[i])\n",
    "                positions[USDSEK_Close_Price.index[i]] = {\n",
    "                    \"Order\": \"SELL\",\n",
    "                    \"Price\": USDSEK_Close_Price.loc[USDSEK_Close_Price.index[i], ticker],\n",
    "                    \"Order Size\": position_size,\n",
    "                    \"ATR\": ATR[i]}                \n",
    "                if entry:\n",
    "                    PNLs.append(USDSEK_Close_Price.loc[USDSEK_Close_Price.index[i], ticker] / entry)\n",
    "                    entry = USDSEK_Close_Price.loc[USDSEK_Close_Price.index[i], ticker]                    \n",
    "                else:\n",
    "                    entry = USDSE_Close_Price.loc[USDSEK_Close_Price.index[i], ticker]\n",
    "                    \n",
    "            elif (sma20.loc[sma20.index[i-1], ticker] < sma100.loc[sma100.index[i-1], ticker]) and (sma20.loc[sma20.index[i], ticker] > sma100.loc[sma100.index[i], ticker]):\n",
    "                pip_value = one_lot * 0.0001 * USDSEK_Close_Price.loc[USDSEK_Close_Price.index[i], ticker]\n",
    "                position_size = risk_per_trade / ((pip_value * vol_adjustment[0])  * ATR[i])\n",
    "                positions[USDSEK_Close_Price.index[i]] = {\n",
    "                    \"Order\": \"BUY\",\n",
    "                    \"Price\": USDSEK_Close_Price.loc[USDSEK_Close_Price.index[i], ticker],\n",
    "                    \"Order Size\": position_size,\n",
    "                    \"ATR\": ATR[i]}     \n",
    "                if entry:\n",
    "                    PNLs.append(USDSEK_Close_Price.loc[USDSEK_Close_Price.index[i], ticker] / entry)\n",
    "                    entry = USDSEK_Close_Price.loc[USDSEK_Close_Price.index[i], ticker]                    \n",
    "                else:\n",
    "                    entry = USDSEK_Close_Price.loc[USDSEK_Close_Price.index[i], ticker]\n",
    "                    \n",
    "#Profitability Analysis\n",
    "print(np.cumprod(PNLs))"
   ]
  },
  {
   "cell_type": "code",
   "execution_count": 155,
   "id": "dec5571f",
   "metadata": {},
   "outputs": [
    {
     "data": {
      "text/plain": [
       "[<matplotlib.lines.Line2D at 0x17db55acd60>]"
      ]
     },
     "execution_count": 155,
     "metadata": {},
     "output_type": "execute_result"
    },
    {
     "data": {
      "image/png": "[encoded data removed]",
      "text/plain": [
       "<Figure size 432x288 with 1 Axes>"
      ]
     },
     "metadata": {
      "needs_background": "light"
     },
     "output_type": "display_data"
    }
   ],
   "source": [
    "plt.plot(np.cumprod(np.array(PNLs)))"
   ]
  }
 ],
 "metadata": {
  "kernelspec": {
   "display_name": "Python 3 (ipykernel)",
   "language": "python",
   "name": "python3"
  },
  "language_info": {
   "codemirror_mode": {
    "name": "ipython",
    "version": 3
   },
   "file_extension": ".py",
   "mimetype": "text/x-python",
   "name": "python",
   "nbconvert_exporter": "python",
   "pygments_lexer": "ipython3",
   "version": "3.9.7"
  }
 },
 "nbformat": 4,
 "nbformat_minor": 5
}
